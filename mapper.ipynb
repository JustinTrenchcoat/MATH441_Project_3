{
 "cells": [
  {
   "cell_type": "code",
   "execution_count": 6,
   "id": "377bacb4-aa19-4df0-a841-54a6c485baab",
   "metadata": {},
   "outputs": [
    {
     "ename": "NameError",
     "evalue": "name 'meiosis' is not defined",
     "output_type": "error",
     "traceback": [
      "\u001b[0;31m---------------------------------------------------------------------------\u001b[0m",
      "\u001b[0;31mNameError\u001b[0m                                 Traceback (most recent call last)",
      "Cell \u001b[0;32mIn[6], line 36\u001b[0m\n\u001b[1;32m     33\u001b[0m genotypes\u001b[38;5;241m=\u001b[39m[]\n\u001b[1;32m     35\u001b[0m \u001b[38;5;28;01mfor\u001b[39;00m _ \u001b[38;5;129;01min\u001b[39;00m \u001b[38;5;28mrange\u001b[39m(\u001b[38;5;241m2000\u001b[39m):\n\u001b[0;32m---> 36\u001b[0m     g1 \u001b[38;5;241m=\u001b[39m \u001b[43mmeiosis\u001b[49m(genome)\n\u001b[1;32m     37\u001b[0m     genotype \u001b[38;5;241m=\u001b[39m fertilization(g1,\u001b[38;5;124m\"\u001b[39m\u001b[38;5;124ma,b,c,d,e,f,g,h,i,j,k,l,m,n,o,p,q,r,s,t\u001b[39m\u001b[38;5;124m\"\u001b[39m)\n\u001b[1;32m     38\u001b[0m     genotypes\u001b[38;5;241m.\u001b[39mappend(genotype)\n",
      "\u001b[0;31mNameError\u001b[0m: name 'meiosis' is not defined"
     ]
    }
   ],
   "source": [
    "from IPython.display import display, HTML\n",
    "import random\n",
    "import string\n",
    "import pandas as pd\n",
    "from sklearn.decomposition import PCA\n",
    "from sklearn.cluster import KMeans\n",
    "import matplotlib.pyplot as plt\n",
    "import itertools\n",
    "import numpy as np\n",
    "import networkx as nx\n",
    "from IPython.display import display\n",
    "\n",
    "\n",
    "def calculate_recombination_frequency(data, i, j):\n",
    "    recombinants = 0\n",
    "    total = 0\n",
    "\n",
    "    for genotype in data:\n",
    "        genes = genotype.split(\"/\")\n",
    "        g1 = ''.join(sorted(genes[i], key=str.lower))\n",
    "        g2 = ''.join(sorted(genes[j], key=str.lower))\n",
    "\n",
    "        het1 = g1[0] != g1[1]\n",
    "        het2 = g2[0] != g2[1]\n",
    "\n",
    "        if het1 != het2:  \n",
    "            recombinants += 1\n",
    "\n",
    "        total += 1\n",
    "\n",
    "    return recombinants / total if total else 0.0\n",
    "\n",
    "def compute_recombination_matrix(df_genotypes):\n",
    "    genotypes = df_genotypes[\"Genotype\"].tolist()\n",
    "    num_loci = len(genotypes[0].split(\"/\"))\n",
    "    loci_labels = list(string.ascii_uppercase)[:num_loci]\n",
    "\n",
    "    matrix = pd.DataFrame(index=loci_labels, columns=loci_labels, dtype=float)\n",
    "\n",
    "    for i in range(num_loci):\n",
    "        for j in range(num_loci):\n",
    "            if i == j:\n",
    "                matrix.iloc[i, j] = 0.0\n",
    "            elif pd.isna(matrix.iloc[i, j]):\n",
    "                r = calculate_recombination_frequency(genotypes, i, j)\n",
    "                matrix.iloc[i, j] = r\n",
    "                matrix.iloc[j, i] = r  \n",
    "\n",
    "    return matrix"
   ]
  },
  {
   "cell_type": "code",
   "execution_count": 7,
   "id": "3881a60f-de19-44c6-a5f9-da073b5c65fa",
   "metadata": {},
   "outputs": [
    {
     "ename": "NameError",
     "evalue": "name 'df_genotypes' is not defined",
     "output_type": "error",
     "traceback": [
      "\u001b[0;31m---------------------------------------------------------------------------\u001b[0m",
      "\u001b[0;31mNameError\u001b[0m                                 Traceback (most recent call last)",
      "Cell \u001b[0;32mIn[7], line 1\u001b[0m\n\u001b[0;32m----> 1\u001b[0m recomb_matrix \u001b[38;5;241m=\u001b[39m \u001b[38;5;241m100\u001b[39m\u001b[38;5;241m*\u001b[39mcompute_recombination_matrix(\u001b[43mdf_genotypes\u001b[49m)\n\u001b[1;32m      2\u001b[0m recomb_matrix \u001b[38;5;241m=\u001b[39m recomb_matrix\u001b[38;5;241m.\u001b[39mastype(\u001b[38;5;28mfloat\u001b[39m)\n\u001b[1;32m      3\u001b[0m \u001b[38;5;28mprint\u001b[39m(recomb_matrix\u001b[38;5;241m.\u001b[39mvalues\u001b[38;5;241m.\u001b[39mdtype) \n",
      "\u001b[0;31mNameError\u001b[0m: name 'df_genotypes' is not defined"
     ]
    }
   ],
   "source": [
    "recomb_matrix = 100*compute_recombination_matrix(df_genotypes)\n",
    "recomb_matrix = recomb_matrix.astype(float)\n",
    "print(recomb_matrix.values.dtype) \n",
    "display(recomb_matrix.round(3))"
   ]
  },
  {
   "cell_type": "code",
   "execution_count": 8,
   "id": "9cd4d452-fe3b-4f77-b077-fde086675c81",
   "metadata": {},
   "outputs": [],
   "source": [
    "def group_loci_by_linkage(recomb_matrix, threshold=46):\n",
    "    G = nx.Graph()\n",
    "    loci = list(recomb_matrix.columns)\n",
    "\n",
    "    G.add_nodes_from(loci)\n",
    "\n",
    "    for i in range(len(loci)):\n",
    "        for j in range(i + 1, len(loci)):  \n",
    "            locus1 = loci[i]\n",
    "            locus2 = loci[j]\n",
    "            r_val = recomb_matrix.loc[locus1, locus2]\n",
    "            if r_val <= threshold:\n",
    "                G.add_edge(locus1, locus2)\n",
    "                print(f\"Linking {locus1}-{locus2} with r={r_val:.3f}\")\n",
    "\n",
    "    groups = list(nx.connected_components(G))\n",
    "    return groups\n",
    "    \n",
    "def get_chromosome_matrices(recomb_matrix, groups):\n",
    "    chrom_matrices = {}\n",
    "    for idx, group in enumerate(groups, 1):\n",
    "        group = sorted(group)\n",
    "        submatrix = recomb_matrix.loc[group, group]\n",
    "        chrom_matrices[f\"Chr{idx}\"] = submatrix.round(1)\n",
    "    return chrom_matrices\n",
    "    \n",
    "def display_chromosome_matrices(chrom_matrices):\n",
    "    html_blocks = []\n",
    "    for chr_name, matrix in chrom_matrices.items():\n",
    "        html = f\"<h4>{chr_name}</h4>\" + matrix.to_html()\n",
    "        wrapped = f\"<div style='display: inline-block; margin-right: 30px; vertical-align: top'>{html}</div>\"\n",
    "        html_blocks.append(wrapped)\n",
    "\n",
    "    display(HTML(''.join(html_blocks)))"
   ]
  },
  {
   "cell_type": "code",
   "execution_count": 9,
   "id": "c0ec638b-6769-4c7a-b8bc-7944c340ae0a",
   "metadata": {},
   "outputs": [
    {
     "ename": "NameError",
     "evalue": "name 'recomb_matrix' is not defined",
     "output_type": "error",
     "traceback": [
      "\u001b[0;31m---------------------------------------------------------------------------\u001b[0m",
      "\u001b[0;31mNameError\u001b[0m                                 Traceback (most recent call last)",
      "Cell \u001b[0;32mIn[9], line 1\u001b[0m\n\u001b[0;32m----> 1\u001b[0m groups \u001b[38;5;241m=\u001b[39m group_loci_by_linkage(\u001b[43mrecomb_matrix\u001b[49m)\n\u001b[1;32m      2\u001b[0m chrom_matrices \u001b[38;5;241m=\u001b[39m get_chromosome_matrices(recomb_matrix, groups)\n\u001b[1;32m      3\u001b[0m display_chromosome_matrices(chrom_matrices)\n",
      "\u001b[0;31mNameError\u001b[0m: name 'recomb_matrix' is not defined"
     ]
    }
   ],
   "source": [
    "groups = group_loci_by_linkage(recomb_matrix)\n",
    "chrom_matrices = get_chromosome_matrices(recomb_matrix, groups)\n",
    "display_chromosome_matrices(chrom_matrices)\n"
   ]
  },
  {
   "cell_type": "code",
   "execution_count": 10,
   "id": "64effc6d-afe0-4eb6-8ae4-dae33f86a544",
   "metadata": {},
   "outputs": [],
   "source": [
    "import numpy as np\n",
    "from scipy.optimize import basinhopping\n",
    "from itertools import combinations\n",
    "\n",
    "def map_genes(chrom_matrix):\n",
    "    loci = chrom_matrix.columns.tolist()\n",
    "    n = len(loci)\n",
    "    \n",
    "    pairs = list(combinations(range(n), 2))\n",
    "    \n",
    "\n",
    "    D = np.array([chrom_matrix.iloc[i, j] for i, j in pairs])\n",
    "    \n",
    "    def reconstruction_loss(x):\n",
    "        return sum(abs((abs(x[i] - x[j]) - D[idx])) for idx, (i, j) in enumerate(pairs))\n",
    "\n",
    "    bounds = [(2, 48)] * n\n",
    "    x0 = np.random.uniform(2, 48, size=n)\n",
    "\n",
    "   \n",
    "    minimizer_kwargs = {\"method\": \"L-BFGS-B\", \"bounds\": bounds}\n",
    "    result = basinhopping(reconstruction_loss, x0, minimizer_kwargs=minimizer_kwargs, niter=1000)\n",
    "    x_recovered = result.x\n",
    "\n",
    "    print(\"Mapped positions:\")\n",
    "    for gene, pos in zip(loci, np.round(x_recovered, 2)):\n",
    "         print(f\"{gene}: {pos} cM\")\n",
    "    print(\"\\nTotal absolute error:\", round(result.fun, 3))\n",
    "    \n",
    "    return x_recovered\n",
    "    "
   ]
  },
  {
   "cell_type": "code",
   "execution_count": 11,
   "id": "31dc3049-a346-4b1b-86f2-f7b9883e6bb8",
   "metadata": {},
   "outputs": [
    {
     "ename": "NameError",
     "evalue": "name 'chrom_matrices' is not defined",
     "output_type": "error",
     "traceback": [
      "\u001b[0;31m---------------------------------------------------------------------------\u001b[0m",
      "\u001b[0;31mNameError\u001b[0m                                 Traceback (most recent call last)",
      "Cell \u001b[0;32mIn[11], line 1\u001b[0m\n\u001b[0;32m----> 1\u001b[0m map_genes(\u001b[43mchrom_matrices\u001b[49m[\u001b[38;5;124m\"\u001b[39m\u001b[38;5;124mChr1\u001b[39m\u001b[38;5;124m\"\u001b[39m])\n\u001b[1;32m      2\u001b[0m map_genes(chrom_matrices[\u001b[38;5;124m\"\u001b[39m\u001b[38;5;124mChr2\u001b[39m\u001b[38;5;124m\"\u001b[39m])\n\u001b[1;32m      3\u001b[0m map_genes(chrom_matrices[\u001b[38;5;124m\"\u001b[39m\u001b[38;5;124mChr3\u001b[39m\u001b[38;5;124m\"\u001b[39m])\n",
      "\u001b[0;31mNameError\u001b[0m: name 'chrom_matrices' is not defined"
     ]
    }
   ],
   "source": [
    "map_genes(chrom_matrices[\"Chr1\"])\n",
    "map_genes(chrom_matrices[\"Chr2\"])\n",
    "map_genes(chrom_matrices[\"Chr3\"])"
   ]
  },
  {
   "cell_type": "code",
   "execution_count": null,
   "id": "6aa7fc86-d35d-4e9d-9d2b-a6e018f9cb90",
   "metadata": {},
   "outputs": [],
   "source": []
  },
  {
   "cell_type": "code",
   "execution_count": null,
   "id": "60fa5b37-e589-4c81-90e0-89f1345069ad",
   "metadata": {},
   "outputs": [],
   "source": []
  }
 ],
 "metadata": {
  "kernelspec": {
   "display_name": "Python 3 (ipykernel)",
   "language": "python",
   "name": "python3"
  },
  "language_info": {
   "codemirror_mode": {
    "name": "ipython",
    "version": 3
   },
   "file_extension": ".py",
   "mimetype": "text/x-python",
   "name": "python",
   "nbconvert_exporter": "python",
   "pygments_lexer": "ipython3",
   "version": "3.12.8"
  }
 },
 "nbformat": 4,
 "nbformat_minor": 5
}
