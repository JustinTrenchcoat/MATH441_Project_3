{
 "cells": [
  {
   "cell_type": "code",
   "execution_count": 1,
   "id": "949663cc-3791-4b12-b4e8-8e81a375395f",
   "metadata": {},
   "outputs": [
    {
     "name": "stdout",
     "output_type": "stream",
     "text": [
      "Crossover point: 54 (swap below)\n",
      "\n",
      "   Gene  Position Chr1_Before Chr2_Before Chr1_After Chr2_After\n",
      "0    G1        29        G1_A        G1_B       G1_B       G1_A\n",
      "1    G2       191        G2_A        G2_B       G2_A       G2_B\n",
      "2    G3       214        G3_A        G3_B       G3_A       G3_B\n",
      "3    G4       221        G4_A        G4_B       G4_A       G4_B\n",
      "4    G5       247        G5_A        G5_B       G5_A       G5_B\n",
      "5    G6       521        G6_A        G6_B       G6_A       G6_B\n",
      "6    G7       573        G7_A        G7_B       G7_A       G7_B\n",
      "7    G8       590        G8_A        G8_B       G8_A       G8_B\n",
      "8    G9       804        G9_A        G9_B       G9_A       G9_B\n",
      "9   G10       830       G10_A       G10_B      G10_A      G10_B\n",
      "10  G11      1075       G11_A       G11_B      G11_A      G11_B\n",
      "11  G12      1133       G12_A       G12_B      G12_A      G12_B\n",
      "12  G13      1134       G13_A       G13_B      G13_A      G13_B\n",
      "13  G14      1147       G14_A       G14_B      G14_A      G14_B\n",
      "14  G15      1148       G15_A       G15_B      G15_A      G15_B\n",
      "15  G16      1168       G16_A       G16_B      G16_A      G16_B\n",
      "16  G17      1205       G17_A       G17_B      G17_A      G17_B\n",
      "17  G18      1247       G18_A       G18_B      G18_A      G18_B\n",
      "18  G19      1419       G19_A       G19_B      G19_A      G19_B\n",
      "19  G20      1468       G20_A       G20_B      G20_A      G20_B\n"
     ]
    }
   ],
   "source": [
    "import random\n",
    "import pandas as pd\n",
    "\n",
    "# Step 1: Random chromosome length\n",
    "chromosome_length = random.randint(1000, 2000)\n",
    "\n",
    "# Step 2: Define genes and assign random positions\n",
    "genes = [f\"G{i+1}\" for i in range(20)]\n",
    "positions = sorted(random.sample(range(1, chromosome_length), 20))\n",
    "gene_positions = list(zip(genes, positions))\n",
    "\n",
    "# Step 3: Create two homologs with different versions (A and B)\n",
    "def create_chromosome(suffix):\n",
    "    return [(f\"{gene}{suffix}\", pos) for gene, pos in gene_positions]\n",
    "\n",
    "chr1 = create_chromosome(\"_A\")\n",
    "chr2 = create_chromosome(\"_B\")\n",
    "\n",
    "# Step 4: Choose a random crossover point\n",
    "crossover_point = random.randint(1, chromosome_length)\n",
    "swap_above = random.random() > 0.5  # True = swap genes ABOVE point, False = swap genes BELOW\n",
    "\n",
    "# Step 5: Recombine based on crossover rule\n",
    "recombinant1 = []\n",
    "recombinant2 = []\n",
    "\n",
    "for (g1, pos), (g2, _) in zip(chr1, chr2):\n",
    "    if (swap_above and pos > crossover_point) or (not swap_above and pos < crossover_point):\n",
    "        recombinant1.append((g2, pos))\n",
    "        recombinant2.append((g1, pos))\n",
    "    else:\n",
    "        recombinant1.append((g1, pos))\n",
    "        recombinant2.append((g2, pos))\n",
    "\n",
    "# Step 6: Output as DataFrame\n",
    "df = pd.DataFrame({\n",
    "    \"Gene\": genes,\n",
    "    \"Position\": positions,\n",
    "    \"Chr1_Before\": [g for g, _ in chr1],\n",
    "    \"Chr2_Before\": [g for g, _ in chr2],\n",
    "    \"Chr1_After\": [g for g, _ in recombinant1],\n",
    "    \"Chr2_After\": [g for g, _ in recombinant2],\n",
    "})\n",
    "\n",
    "print(f\"Crossover point: {crossover_point} (swap {'above' if swap_above else 'below'})\\n\")\n",
    "print(df)\n"
   ]
  },
  {
   "cell_type": "code",
   "execution_count": null,
   "id": "f4b7279d-aa64-4e1b-b188-428a34915d13",
   "metadata": {},
   "outputs": [],
   "source": []
  }
 ],
 "metadata": {
  "kernelspec": {
   "display_name": "Python 3 (ipykernel)",
   "language": "python",
   "name": "python3"
  },
  "language_info": {
   "codemirror_mode": {
    "name": "ipython",
    "version": 3
   },
   "file_extension": ".py",
   "mimetype": "text/x-python",
   "name": "python",
   "nbconvert_exporter": "python",
   "pygments_lexer": "ipython3",
   "version": "3.12.8"
  }
 },
 "nbformat": 4,
 "nbformat_minor": 5
}
